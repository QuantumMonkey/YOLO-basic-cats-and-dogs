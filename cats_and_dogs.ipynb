{
  "nbformat": 4,
  "nbformat_minor": 0,
  "metadata": {
    "colab": {
      "provenance": [],
      "authorship_tag": "ABX9TyNY3DA4NcA9EAu29VAC+htJ"
    },
    "kernelspec": {
      "name": "python3",
      "display_name": "Python 3"
    },
    "language_info": {
      "name": "python"
    }
  },
  "cells": [
    {
      "cell_type": "markdown",
      "source": [
        "\n",
        "\n",
        "```\n",
        "Importing Libraries\n",
        "```\n",
        "\n"
      ],
      "metadata": {
        "id": "_miaWNJtDL73"
      }
    },
    {
      "cell_type": "code",
      "execution_count": 2,
      "metadata": {
        "id": "auvTdd5U_pv-"
      },
      "outputs": [],
      "source": [
        "import os\n",
        "import time\n",
        "import numpy as np\n",
        "import tensorflow as tf\n",
        "import matplotlib.pyplot as plt\n",
        "from google.colab import drive\n",
        "from keras.models import load_model\n",
        "from keras.preprocessing import image\n",
        "from tensorflow.keras.preprocessing.image import ImageDataGenerator"
      ]
    },
    {
      "cell_type": "markdown",
      "source": [
        "```\n",
        "Mounting Drive and setting paths\n",
        "```"
      ],
      "metadata": {
        "id": "BK1Bzq-LEWEn"
      }
    },
    {
      "cell_type": "code",
      "source": [
        "path = '/content/drive/My Drive/Classification Datasets/Cats_vs_dogs_classification_dataset'\n",
        "train_dir = '/content/drive/My Drive/Classification Datasets/Cats_vs_dogs_classification_dataset/train'\n",
        "validation_dir = '/content/drive/My Drive/Classification Datasets/Cats_vs_dogs_classification_dataset/validation'\n",
        "test_dir = '/content/drive/My Drive/Classification Datasets/Cats_vs_dogs_classification_dataset/test'\n",
        "\n",
        "train_cats_dir = '/content/drive/My Drive/Classification Datasets/Cats_vs_dogs_classification_dataset/train/cats'\n",
        "train_dogs_dir = '/content/drive/My Drive/Classification Datasets/Cats_vs_dogs_classification_dataset/train/dogs'\n",
        "\n",
        "validation_cats_dir = '/content/drive/My Drive/Classification Datasets/Cats_vs_dogs_classification_dataset/validation/cats'\n",
        "validation_dogs_dir ='/content/drive/My Drive/Classification Datasets/Cats_vs_dogs_classification_dataset/validation/dogs'\n",
        "\n",
        "test_cats_dir = '/content/drive/My Drive/Classification Datasets/Cats_vs_dogs_classification_dataset/test/cats'\n",
        "test_dogs_dir = '/content/drive/My Drive/Classification Datasets/Cats_vs_dogs_classification_dataset/test/dogs'"
      ],
      "metadata": {
        "id": "i0QVltWrEorW"
      },
      "execution_count": 3,
      "outputs": []
    },
    {
      "cell_type": "markdown",
      "source": [
        "```\n",
        "Ennumerate the data/images\n",
        "```"
      ],
      "metadata": {
        "id": "JZVAEdCZEzk1"
      }
    },
    {
      "cell_type": "code",
      "source": [
        "num_cats_train = len(os.listdir(train_cats_dir))\n",
        "num_dogs_train = len(os.listdir(train_dogs_dir))\n",
        "\n",
        "num_cats_validation = len(os.listdir(validation_cats_dir))\n",
        "num_dogs_validation = len(os.listdir(validation_dogs_dir))\n",
        "\n",
        "num_cats_test = len(os.listdir(test_cats_dir))\n",
        "num_dogs_test = len(os.listdir(test_dogs_dir))\n",
        "\n",
        "print('Total Training Images of Cats',num_cats_train)\n",
        "print('Total Training Images of Dogs',num_dogs_train)\n",
        "print('\\n************************\\n')\n",
        "print('Total Validation Images of Cats',num_cats_validation)\n",
        "print('Total Validation Imagges of Dogs',num_dogs_validation)\n",
        "print('\\n************************\\n')\n",
        "print('Total Testing Images of Cats',num_cats_test)\n",
        "print('Total Testing Images of Dogs',num_dogs_test)"
      ],
      "metadata": {
        "colab": {
          "base_uri": "https://localhost:8080/",
          "height": 252
        },
        "id": "ttdWHsfWEz8N",
        "outputId": "dadd33f8-6d17-43ab-964c-7200dfb86209"
      },
      "execution_count": 4,
      "outputs": [
        {
          "output_type": "error",
          "ename": "FileNotFoundError",
          "evalue": "ignored",
          "traceback": [
            "\u001b[0;31m---------------------------------------------------------------------------\u001b[0m",
            "\u001b[0;31mFileNotFoundError\u001b[0m                         Traceback (most recent call last)",
            "\u001b[0;32m<ipython-input-4-bcbd00fbcf0c>\u001b[0m in \u001b[0;36m<module>\u001b[0;34m\u001b[0m\n\u001b[0;32m----> 1\u001b[0;31m \u001b[0mnum_cats_train\u001b[0m \u001b[0;34m=\u001b[0m \u001b[0mlen\u001b[0m\u001b[0;34m(\u001b[0m\u001b[0mos\u001b[0m\u001b[0;34m.\u001b[0m\u001b[0mlistdir\u001b[0m\u001b[0;34m(\u001b[0m\u001b[0mtrain_cats_dir\u001b[0m\u001b[0;34m)\u001b[0m\u001b[0;34m)\u001b[0m\u001b[0;34m\u001b[0m\u001b[0;34m\u001b[0m\u001b[0m\n\u001b[0m\u001b[1;32m      2\u001b[0m \u001b[0mnum_dogs_train\u001b[0m \u001b[0;34m=\u001b[0m \u001b[0mlen\u001b[0m\u001b[0;34m(\u001b[0m\u001b[0mos\u001b[0m\u001b[0;34m.\u001b[0m\u001b[0mlistdir\u001b[0m\u001b[0;34m(\u001b[0m\u001b[0mtrain_dogs_dir\u001b[0m\u001b[0;34m)\u001b[0m\u001b[0;34m)\u001b[0m\u001b[0;34m\u001b[0m\u001b[0;34m\u001b[0m\u001b[0m\n\u001b[1;32m      3\u001b[0m \u001b[0;34m\u001b[0m\u001b[0m\n\u001b[1;32m      4\u001b[0m \u001b[0mnum_cats_validation\u001b[0m \u001b[0;34m=\u001b[0m \u001b[0mlen\u001b[0m\u001b[0;34m(\u001b[0m\u001b[0mos\u001b[0m\u001b[0;34m.\u001b[0m\u001b[0mlistdir\u001b[0m\u001b[0;34m(\u001b[0m\u001b[0mvalidation_cats_dir\u001b[0m\u001b[0;34m)\u001b[0m\u001b[0;34m)\u001b[0m\u001b[0;34m\u001b[0m\u001b[0;34m\u001b[0m\u001b[0m\n\u001b[1;32m      5\u001b[0m \u001b[0mnum_dogs_validation\u001b[0m \u001b[0;34m=\u001b[0m \u001b[0mlen\u001b[0m\u001b[0;34m(\u001b[0m\u001b[0mos\u001b[0m\u001b[0;34m.\u001b[0m\u001b[0mlistdir\u001b[0m\u001b[0;34m(\u001b[0m\u001b[0mvalidation_dogs_dir\u001b[0m\u001b[0;34m)\u001b[0m\u001b[0;34m)\u001b[0m\u001b[0;34m\u001b[0m\u001b[0;34m\u001b[0m\u001b[0m\n",
            "\u001b[0;31mFileNotFoundError\u001b[0m: [Errno 2] No such file or directory: '/content/drive/My Drive/Classification Datasets/Cats_vs_dogs_classification_dataset/train/cats'"
          ]
        }
      ]
    },
    {
      "cell_type": "code",
      "source": [],
      "metadata": {
        "id": "DkLNKhulFFQv"
      },
      "execution_count": null,
      "outputs": []
    }
  ]
}